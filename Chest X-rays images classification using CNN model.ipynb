{
 "cells": [
  {
   "cell_type": "code",
   "execution_count": 1,
   "metadata": {
    "_cell_guid": "b1076dfc-b9ad-4769-8c92-a6c4dae69d19",
    "_uuid": "8f2839f25d086af736a60e9eeb907d3b93b6e0e5",
    "execution": {
     "iopub.execute_input": "2021-12-14T07:52:41.715412Z",
     "iopub.status.busy": "2021-12-14T07:52:41.715111Z",
     "iopub.status.idle": "2021-12-14T07:52:42.448689Z",
     "shell.execute_reply": "2021-12-14T07:52:42.445849Z",
     "shell.execute_reply.started": "2021-12-14T07:52:41.715358Z"
    }
   },
   "outputs": [],
   "source": [
    "import numpy as np\n",
    "import pandas as pd\n",
    "import matplotlib.pyplot as plt\n",
    "import seaborn as sns\n",
    "\n",
    "import os\n",
    "print(os.listdir(\"../input\"))"
   ]
  },
  {
   "cell_type": "code",
   "execution_count": 2,
   "metadata": {
    "_cell_guid": "79c7e3d0-c299-4dcb-8224-4455121ee9b0",
    "_uuid": "d629ff2d2480ee46fbb7e2d37f6b5fab8052498a",
    "execution": {
     "iopub.execute_input": "2021-12-14T07:52:42.451388Z",
     "iopub.status.busy": "2021-12-14T07:52:42.451010Z",
     "iopub.status.idle": "2021-12-14T07:52:42.910873Z",
     "shell.execute_reply": "2021-12-14T07:52:42.909972Z",
     "shell.execute_reply.started": "2021-12-14T07:52:42.451330Z"
    }
   },
   "outputs": [],
   "source": [
    "xray_data = pd.read_csv('../input/Data_Entry_2017.csv')\n",
    "\n",
    "num_obs = len(xray_data)\n",
    "print('Number of observations:',num_obs)\n",
    "\n",
    "xray_data.head(5)"
   ]
  },
  {
   "cell_type": "code",
   "execution_count": 3,
   "metadata": {
    "_uuid": "59d78b4cb047df620df9c736b0f670c6e42b2940",
    "execution": {
     "iopub.execute_input": "2021-12-14T07:52:42.918970Z",
     "iopub.status.busy": "2021-12-14T07:52:42.916504Z",
     "iopub.status.idle": "2021-12-14T07:52:51.330440Z",
     "shell.execute_reply": "2021-12-14T07:52:51.329579Z",
     "shell.execute_reply.started": "2021-12-14T07:52:42.918908Z"
    }
   },
   "outputs": [],
   "source": [
    "from glob import glob\n",
    "\n",
    "my_glob = glob('../input/images*/images/*.png')\n",
    "print('Number of Observations: ', len(my_glob))"
   ]
  },
  {
   "cell_type": "code",
   "execution_count": 4,
   "metadata": {
    "_uuid": "118b0dec8fec5fff77526675c571a0e918e6a2d2",
    "execution": {
     "iopub.execute_input": "2021-12-14T07:52:51.333025Z",
     "iopub.status.busy": "2021-12-14T07:52:51.332727Z",
     "iopub.status.idle": "2021-12-14T07:52:51.519995Z",
     "shell.execute_reply": "2021-12-14T07:52:51.519159Z",
     "shell.execute_reply.started": "2021-12-14T07:52:51.332975Z"
    }
   },
   "outputs": [],
   "source": [
    "full_img_paths = {os.path.basename(x): x for x in my_glob}\n",
    "xray_data['full_path'] = xray_data['Image Index'].map(full_img_paths.get)\n",
    "print(len(xray_data))"
   ]
  },
  {
   "cell_type": "code",
   "execution_count": 5,
   "metadata": {
    "_uuid": "91d483c23e8e6f9c97ce56c4c43222bd0d17ffef",
    "execution": {
     "iopub.execute_input": "2021-12-14T07:52:51.521642Z",
     "iopub.status.busy": "2021-12-14T07:52:51.521177Z",
     "iopub.status.idle": "2021-12-14T07:52:52.019476Z",
     "shell.execute_reply": "2021-12-14T07:52:52.018627Z",
     "shell.execute_reply.started": "2021-12-14T07:52:51.521589Z"
    }
   },
   "outputs": [],
   "source": [
    "num_unique_labels = xray_data['Finding Labels'].nunique()\n",
    "print('Number of unique labels:',num_unique_labels)\n",
    "\n",
    "count_per_unique_label = xray_data['Finding Labels'].value_counts() \n",
    "df_count_per_unique_label = count_per_unique_label.to_frame()\n",
    "\n",
    "print(df_count_per_unique_label) # view tabular results\n",
    "sns.barplot(x = df_count_per_unique_label.index[:20], y=\"Finding Labels\", data=df_count_per_unique_label[:20], color = \"green\"), plt.xticks(rotation = 90)"
   ]
  },
  {
   "cell_type": "code",
   "execution_count": 6,
   "metadata": {
    "_uuid": "69a30c7f88092bb2bfebb432d369a8b794f66568",
    "execution": {
     "iopub.execute_input": "2021-12-14T07:52:52.021310Z",
     "iopub.status.busy": "2021-12-14T07:52:52.020773Z",
     "iopub.status.idle": "2021-12-14T07:52:53.017048Z",
     "shell.execute_reply": "2021-12-14T07:52:53.016141Z",
     "shell.execute_reply.started": "2021-12-14T07:52:52.021254Z"
    }
   },
   "outputs": [],
   "source": [
    "dummy_labels = ['Atelectasis', 'Consolidation', 'Cardiomegaly', 'Edema', 'Effusion', 'Emphysema', 'Fibrosis', 'Hernia', 'Infiltration', 'Mass', 'Nodule', 'Pneumothorax',  'Pneumonia', 'Pleural_Thickening'] # taken from paper\n",
    "\n",
    "for label in dummy_labels:\n",
    "    xray_data[label] = xray_data['Finding Labels'].map(lambda result: 1.0 if label in result else 0)\n",
    "xray_data.head(20)"
   ]
  },
  {
   "cell_type": "code",
   "execution_count": 7,
   "metadata": {
    "_uuid": "4f084fec6514a9fac1323f80ca0108bee912c4c4",
    "execution": {
     "iopub.execute_input": "2021-12-14T07:52:53.018297Z",
     "iopub.status.busy": "2021-12-14T07:52:53.018047Z",
     "iopub.status.idle": "2021-12-14T07:52:53.424144Z",
     "shell.execute_reply": "2021-12-14T07:52:53.423317Z",
     "shell.execute_reply.started": "2021-12-14T07:52:53.018251Z"
    }
   },
   "outputs": [],
   "source": [
    "\n",
    "clean_labels = xray_data[dummy_labels].sum().sort_values(ascending= False)\n",
    "print(clean_labels)\n",
    "\n",
    "\n",
    "clean_labels_df = clean_labels.to_frame()\n",
    "sns.barplot(x = clean_labels_df.index[::], y= 0, data = clean_labels_df[::], color = \"green\"), plt.xticks(rotation = 90)"
   ]
  },
  {
   "cell_type": "code",
   "execution_count": 8,
   "metadata": {
    "_uuid": "9fe62519bea916e07783f6fb51b51244eb35fd7a",
    "execution": {
     "iopub.execute_input": "2021-12-14T07:52:53.425555Z",
     "iopub.status.busy": "2021-12-14T07:52:53.425286Z",
     "iopub.status.idle": "2021-12-14T07:54:19.311251Z",
     "shell.execute_reply": "2021-12-14T07:54:19.310319Z",
     "shell.execute_reply.started": "2021-12-14T07:52:53.425504Z"
    }
   },
   "outputs": [],
   "source": [
    "xray_data['target_vector'] = xray_data.apply(lambda target: [target[dummy_labels].values], 1).map(lambda target: target[0])"
   ]
  },
  {
   "cell_type": "code",
   "execution_count": 9,
   "metadata": {
    "_uuid": "dd98d0661e968569a25234aa8de4ccc93f6080bf",
    "execution": {
     "iopub.execute_input": "2021-12-14T07:54:19.312457Z",
     "iopub.status.busy": "2021-12-14T07:54:19.312224Z",
     "iopub.status.idle": "2021-12-14T07:54:19.371067Z",
     "shell.execute_reply": "2021-12-14T07:54:19.369954Z",
     "shell.execute_reply.started": "2021-12-14T07:54:19.312415Z"
    }
   },
   "outputs": [],
   "source": [
    "xray_data.head()"
   ]
  },
  {
   "cell_type": "code",
   "execution_count": 10,
   "metadata": {
    "_uuid": "8ecd0a5bedde801a2fff9babb43b27e5ab42ac20",
    "execution": {
     "iopub.execute_input": "2021-12-14T07:54:19.372779Z",
     "iopub.status.busy": "2021-12-14T07:54:19.372328Z",
     "iopub.status.idle": "2021-12-14T07:54:19.542456Z",
     "shell.execute_reply": "2021-12-14T07:54:19.541742Z",
     "shell.execute_reply.started": "2021-12-14T07:54:19.372578Z"
    }
   },
   "outputs": [],
   "source": [
    "# split the data into a training and testing set\n",
    "from sklearn.model_selection import train_test_split\n",
    "train_set, test_set = train_test_split(xray_data, test_size = 0.2, random_state = 1999)\n",
    "\n",
    "# quick check to see that the training and test set were split properly\n",
    "print('training set - # of observations: ', len(train_set))\n",
    "print('test set - # of observations): ', len(test_set))\n",
    "print('prior, full data set - # of observations): ', len(xray_data))"
   ]
  },
  {
   "cell_type": "code",
   "execution_count": 11,
   "metadata": {
    "_uuid": "6df03acb095f2fa31bcb3cb10a4b655bf0cae18b",
    "execution": {
     "iopub.execute_input": "2021-12-14T07:54:19.548597Z",
     "iopub.status.busy": "2021-12-14T07:54:19.548145Z",
     "iopub.status.idle": "2021-12-14T07:54:19.842491Z",
     "shell.execute_reply": "2021-12-14T07:54:19.841548Z",
     "shell.execute_reply.started": "2021-12-14T07:54:19.548412Z"
    }
   },
   "outputs": [],
   "source": [
    "\n",
    "from keras.preprocessing.image import ImageDataGenerator\n",
    "data_gen = ImageDataGenerator(\n",
    "        rescale=1./255,\n",
    "        shear_range=0.4,\n",
    "        zoom_range=0.4,\n",
    "        rotation_range=40,\n",
    "        width_shift_range=0.4,\n",
    "        height_shift_range=0.4,\n",
    "        horizontal_flip=True)"
   ]
  },
  {
   "cell_type": "code",
   "execution_count": 12,
   "metadata": {
    "_uuid": "06a9e1992fd8414e7b69832ec354efd895158c68",
    "execution": {
     "iopub.execute_input": "2021-12-14T07:54:19.846889Z",
     "iopub.status.busy": "2021-12-14T07:54:19.844353Z",
     "iopub.status.idle": "2021-12-14T07:54:19.855593Z",
     "shell.execute_reply": "2021-12-14T07:54:19.854314Z",
     "shell.execute_reply.started": "2021-12-14T07:54:19.844676Z"
    }
   },
   "outputs": [],
   "source": [
    "\n",
    "def flow_from_dataframe(img_data_gen, in_df, path_col, y_col, **dflow_args):\n",
    "    base_dir = os.path.dirname(in_df[path_col].values[0])\n",
    "    print('## Ignore next message from keras, values are replaced anyways')\n",
    "    df_gen = img_data_gen.flow_from_directory(base_dir, \n",
    "                                     class_mode = 'sparse',\n",
    "                                    **dflow_args)\n",
    "    df_gen.filenames = in_df[path_col].values\n",
    "    df_gen.classes = np.stack(in_df[y_col].values)\n",
    "    df_gen.samples = in_df.shape[0]\n",
    "    df_gen.n = in_df.shape[0]\n",
    "    df_gen._set_index_array()\n",
    "    df_gen.directory = '' # since we have the full path\n",
    "    print('Reinserting dataframe: {} images'.format(in_df.shape[0]))\n",
    "    return df_gen"
   ]
  },
  {
   "cell_type": "code",
   "execution_count": 13,
   "metadata": {
    "_uuid": "a259046bb30625e394e01a913965466c09f315d4",
    "execution": {
     "iopub.execute_input": "2021-12-14T07:54:19.856893Z",
     "iopub.status.busy": "2021-12-14T07:54:19.856622Z",
     "iopub.status.idle": "2021-12-14T07:55:36.259690Z",
     "shell.execute_reply": "2021-12-14T07:55:36.258866Z",
     "shell.execute_reply.started": "2021-12-14T07:54:19.856841Z"
    }
   },
   "outputs": [],
   "source": [
    "# Can use flow_from_dataframe() for training and validation - simply pass arguments through to function parameters\n",
    "# Credit: Code adapted from Kevin Mader - Simple XRay CNN on 12/09/18\n",
    "# https://www.kaggle.com/kmader/train-simple-xray-cnn\n",
    "\n",
    "image_size = (128, 128) # image re-sizing target\n",
    "train_gen = flow_from_dataframe(data_gen, train_set, path_col = 'full_path', y_col = 'target_vector', target_size = image_size, color_mode = 'grayscale', batch_size = 64)\n",
    "valid_gen = flow_from_dataframe(data_gen, test_set, path_col = 'full_path', y_col = 'target_vector', target_size = image_size, color_mode = 'grayscale', batch_size = 64)\n",
    "\n",
    "# define test sets\n",
    "test_X, test_Y = next(flow_from_dataframe(data_gen, test_set, path_col = 'full_path', y_col = 'target_vector', target_size = image_size, color_mode = 'grayscale', \n",
    "                                          batch_size = 1024))"
   ]
  },
  {
   "cell_type": "code",
   "execution_count": 14,
   "metadata": {
    "execution": {
     "iopub.execute_input": "2021-12-14T07:55:36.260973Z",
     "iopub.status.busy": "2021-12-14T07:55:36.260705Z",
     "iopub.status.idle": "2021-12-14T07:55:36.277064Z",
     "shell.execute_reply": "2021-12-14T07:55:36.274978Z",
     "shell.execute_reply.started": "2021-12-14T07:55:36.260930Z"
    }
   },
   "outputs": [],
   "source": [
    "\n",
    "from keras.layers import Input, Dense, Dropout, BatchNormalization, Conv2D, MaxPooling2D, AveragePooling2D, concatenate, Flatten\n",
    "from keras.models import Sequential, Model\n",
    "\n",
    "def Conv2d_BN(x, nb_filter, kernel_size, padding='same', strides=(1, 1), name=None):\n",
    "    if name is not None:\n",
    "        bn_name = name + '_bn'\n",
    "        conv_name = name + '_conv'\n",
    "    else:\n",
    "        bn_name = None\n",
    "        conv_name = None\n",
    "\n",
    "    x = Conv2D(nb_filter, kernel_size, padding=padding, strides=strides, activation='relu', name=conv_name)(x)\n",
    "    x = BatchNormalization(axis=3, name=bn_name)(x)\n",
    "    return x\n",
    "\n",
    "\n",
    "def Inception(x, nb_filter):\n",
    "    branch1x1 = Conv2d_BN(x, nb_filter, (1, 1), padding='same', strides=(1, 1), name=None)\n",
    "\n",
    "    branch3x3 = Conv2d_BN(x, nb_filter, (1, 1), padding='same', strides=(1, 1), name=None)\n",
    "    branch3x3 = Conv2d_BN(branch3x3, nb_filter, (3, 3), padding='same', strides=(1, 1), name=None)\n",
    "\n",
    "    branch5x5 = Conv2d_BN(x, nb_filter, (1, 1), padding='same', strides=(1, 1), name=None)\n",
    "    branch5x5 = Conv2d_BN(branch5x5, nb_filter, (1, 1), padding='same', strides=(1, 1), name=None)\n",
    "\n",
    "    branchpool = MaxPooling2D(pool_size=(3, 3), strides=(1, 1), padding='same')(x)\n",
    "    branchpool = Conv2d_BN(branchpool, nb_filter, (1, 1), padding='same', strides=(1, 1), name=None)\n",
    "\n",
    "    x = concatenate([branch1x1, branch3x3, branch5x5, branchpool], axis=3)\n",
    "\n",
    "    return x"
   ]
  },
  {
   "cell_type": "code",
   "execution_count": 15,
   "metadata": {
    "execution": {
     "iopub.execute_input": "2021-12-14T07:55:36.278549Z",
     "iopub.status.busy": "2021-12-14T07:55:36.278205Z",
     "iopub.status.idle": "2021-12-14T07:55:52.084414Z",
     "shell.execute_reply": "2021-12-14T07:55:52.083348Z",
     "shell.execute_reply.started": "2021-12-14T07:55:36.278477Z"
    }
   },
   "outputs": [],
   "source": [
    "inpt = Input(shape=(128, 128, 1))\n",
    "# padding = 'same'，填充為(步長-1）/2,還可以用ZeroPadding2D((3,3))\n",
    "x = Conv2d_BN(inpt, 64, (7, 7), strides=(2, 2), padding='same')\n",
    "x = MaxPooling2D(pool_size=(3, 3), strides=(2, 2), padding='same')(x)\n",
    "x = Conv2d_BN(x, 192, (3, 3), strides=(1, 1), padding='same')\n",
    "x = MaxPooling2D(pool_size=(3, 3), strides=(2, 2), padding='same')(x)\n",
    "x = Inception(x, 64)  # 256\n",
    "x = Inception(x, 120)  # 480\n",
    "x = MaxPooling2D(pool_size=(3, 3), strides=(2, 2), padding='same')(x)\n",
    "x = Inception(x, 128)  # 512\n",
    "x = Inception(x, 128)\n",
    "x = Inception(x, 128)\n",
    "x = Inception(x, 132)  # 528\n",
    "x = Inception(x, 208)  # 832\n",
    "\n",
    "x = MaxPooling2D(pool_size=(3, 3), strides=(2, 2), padding='same')(x)\n",
    "x = Inception(x, 208)\n",
    "x = Inception(x, 256)  # 1024\n",
    "x = AveragePooling2D(pool_size=(7, 7), strides=(7, 7), padding='same')(x)\n",
    "x = Dropout(0.4)(x)\n",
    "x = Flatten()(x)\n",
    "x = Dense(1000, activation='relu')(x)\n",
    "x = Dense(len(dummy_labels), activation='softmax')(x)\n",
    "model = Model(inpt, x, name='inception')\n",
    "model.compile(loss='categorical_crossentropy', optimizer='sgd', metrics=['accuracy'])\n",
    "model.summary()\n",
    "model.save('model.h5')"
   ]
  },
  {
   "cell_type": "code",
   "execution_count": 16,
   "metadata": {
    "_uuid": "cc33470406693823f124417cbc297fa61fdb3aa9",
    "execution": {
     "iopub.execute_input": "2021-12-14T07:55:52.086221Z",
     "iopub.status.busy": "2021-12-14T07:55:52.085956Z",
     "iopub.status.idle": "2021-12-14T07:55:52.091546Z",
     "shell.execute_reply": "2021-12-14T07:55:52.090774Z",
     "shell.execute_reply.started": "2021-12-14T07:55:52.086172Z"
    }
   },
   "outputs": [],
   "source": [
    "\n",
    "\n",
    "# # Create CNN model\n",
    "# # Will use a combination of convolutional, max pooling, and dropout layers for this purpose\n",
    "model = Sequential()\n",
    "\n",
    "model.add(Conv2D(filters = 8, kernel_size = 3, padding = 'same', activation = 'relu', input_shape = test_X.shape[1:]))\n",
    "model.add(MaxPooling2D(pool_size = 2))\n",
    "model.add(Dropout(0.2))\n",
    "\n",
    "model.add(Conv2D(filters = 16, kernel_size = 3, padding = 'same', activation = 'relu'))\n",
    "model.add(MaxPooling2D(pool_size = 2))\n",
    "model.add(Dropout(0.2))\n",
    "          \n",
    "model.add(Conv2D(filters = 32, kernel_size = 3, padding = 'same', activation = 'relu'))\n",
    "model.add(MaxPooling2D(pool_size = 2))\n",
    "model.add(Dropout(0.2))\n",
    "\n",
    "model.add(Conv2D(filters = 64, kernel_size = 3, padding = 'same', activation = 'relu'))\n",
    "model.add(MaxPooling2D(pool_size = 2))\n",
    "model.add(Dropout(0.2))\n",
    "          \n",
    "model.add(Conv2D(filters = 128, kernel_size = 3, padding = 'same', activation = 'relu'))\n",
    "model.add(MaxPooling2D(pool_size = 3))\n",
    "model.add(Dropout(0.2))\n",
    "\n",
    "# add in fully connected dense layers to model, then output classifiction probabilities using a softmax activation function\n",
    "model.add(Flatten())\n",
    "model.add(Dense(500, activation = 'relu'))\n",
    "model.add(Dropout(0.2))\n",
    "model.add(Dense(len(dummy_labels), activation = 'softmax'))\n",
    "\n",
    "model.compile(optimizer='adam', loss='categorical_crossentropy', metrics=['accuracy'])\n",
    "model.summary()"
   ]
  },
  {
   "cell_type": "code",
   "execution_count": 17,
   "metadata": {
    "_uuid": "814c8f40748209198add1ec9d324452c302affdc",
    "execution": {
     "iopub.execute_input": "2021-12-14T07:55:52.093370Z",
     "iopub.status.busy": "2021-12-14T07:55:52.092822Z",
     "iopub.status.idle": "2021-12-14T07:55:52.104815Z",
     "shell.execute_reply": "2021-12-14T07:55:52.104014Z",
     "shell.execute_reply.started": "2021-12-14T07:55:52.093304Z"
    }
   },
   "outputs": [],
   "source": [
    "from keras.callbacks import ModelCheckpoint\n",
    "\n",
    "checkpointer = ModelCheckpoint(filepath='weights.best.{epoch:02d}-{val_loss:.2f}.hdf5', verbose=1, save_best_only = True)\n",
    "callbacks_list = [checkpointer]"
   ]
  },
  {
   "cell_type": "code",
   "execution_count": 18,
   "metadata": {
    "_uuid": "59dec9aa0aeecc473a42eb9ee01f6da20f619d7f",
    "execution": {
     "iopub.execute_input": "2021-12-14T07:55:52.106133Z",
     "iopub.status.busy": "2021-12-14T07:55:52.105717Z",
     "iopub.status.idle": "2021-12-14T07:56:42.962637Z",
     "shell.execute_reply": "2021-12-14T07:56:42.961717Z",
     "shell.execute_reply.started": "2021-12-14T07:55:52.105938Z"
    }
   },
   "outputs": [],
   "source": [
    "model.fit_generator(generator = train_gen, steps_per_epoch = 20, epochs = 1, callbacks = callbacks_list, validation_data = (test_X, test_Y))"
   ]
  },
  {
   "cell_type": "code",
   "execution_count": 19,
   "metadata": {
    "_uuid": "27cf830438b3ff4f69eec0aa8090e1c0cb501840",
    "execution": {
     "iopub.execute_input": "2021-12-14T07:56:42.968173Z",
     "iopub.status.busy": "2021-12-14T07:56:42.965781Z",
     "iopub.status.idle": "2021-12-14T07:56:44.446320Z",
     "shell.execute_reply": "2021-12-14T07:56:44.445596Z",
     "shell.execute_reply.started": "2021-12-14T07:56:42.966083Z"
    }
   },
   "outputs": [],
   "source": [
    "quick_model_predictions = model.predict(test_X, batch_size = 64, verbose = 1)"
   ]
  },
  {
   "cell_type": "code",
   "execution_count": 20,
   "metadata": {
    "_uuid": "51a1ff05bf84b43ca58706ad70975816ee9dc62f",
    "execution": {
     "iopub.execute_input": "2021-12-14T07:56:44.447455Z",
     "iopub.status.busy": "2021-12-14T07:56:44.447226Z",
     "iopub.status.idle": "2021-12-14T07:56:45.140563Z",
     "shell.execute_reply": "2021-12-14T07:56:45.139631Z",
     "shell.execute_reply.started": "2021-12-14T07:56:44.447413Z"
    },
    "scrolled": true
   },
   "outputs": [],
   "source": [
    "\n",
    "from sklearn.metrics import roc_curve, auc\n",
    "\n",
    "fig, c_ax = plt.subplots(1,1, figsize = (9, 9))\n",
    "for (i, label) in enumerate(dummy_labels):\n",
    "    fpr, tpr, thresholds = roc_curve(test_Y[:,i].astype(int), quick_model_predictions[:,i])\n",
    "    c_ax.plot(fpr, tpr, label = '%s (AUC:%0.2f)'  % (label, auc(fpr, tpr)))\n",
    "\n",
    "c_ax.legend()\n",
    "c_ax.set_xlabel('False Positive Rate')\n",
    "c_ax.set_ylabel('True Positive Rate')\n",
    "fig.savefig('quick_trained_model.png')"
   ]
  },
  {
   "cell_type": "code",
   "execution_count": 21,
   "metadata": {
    "_uuid": "ec5333de52ae710c30c3c933ea17203f27a4fcbb",
    "execution": {
     "iopub.execute_input": "2021-12-14T07:56:45.142459Z",
     "iopub.status.busy": "2021-12-14T07:56:45.141950Z",
     "iopub.status.idle": "2021-12-14T08:45:08.501835Z",
     "shell.execute_reply": "2021-12-14T08:45:08.500957Z",
     "shell.execute_reply.started": "2021-12-14T07:56:45.142223Z"
    }
   },
   "outputs": [],
   "source": [
    "\n",
    "model.fit_generator(generator = train_gen, steps_per_epoch = 50, epochs = 30, callbacks = callbacks_list, validation_data = (test_X, test_Y))\n",
    "\n",
    "\n",
    "deep_model_predictions = model.predict(test_X, batch_size = 64, verbose = 1)\n",
    "\n",
    "fig, c_ax = plt.subplots(1,1, figsize = (9, 9))\n",
    "for (i, label) in enumerate(dummy_labels):\n",
    "    fpr, tpr, thresholds = roc_curve(test_Y[:,i].astype(int), deep_model_predictions[:,i])\n",
    "    c_ax.plot(fpr, tpr, label = '%s (AUC:%0.2f)'  % (label, auc(fpr, tpr)))\n",
    "\n",
    "c_ax.legend()\n",
    "c_ax.set_xlabel('False Positive Rate')\n",
    "c_ax.set_ylabel('True Positive Rate')\n",
    "fig.savefig('deep_trained_model.png')"
   ]
  },
  {
   "cell_type": "code",
   "execution_count": 22,
   "metadata": {
    "_uuid": "8f0b50ce87ac0c3018e7069ec19ba8327a1a20c7",
    "execution": {
     "iopub.execute_input": "2021-12-14T08:45:08.504939Z",
     "iopub.status.busy": "2021-12-14T08:45:08.504586Z",
     "iopub.status.idle": "2021-12-14T08:45:08.511690Z",
     "shell.execute_reply": "2021-12-14T08:45:08.510935Z",
     "shell.execute_reply.started": "2021-12-14T08:45:08.504882Z"
    }
   },
   "outputs": [],
   "source": []
  }
 ],
 "metadata": {
  "kernelspec": {
   "display_name": "Python 3",
   "language": "python",
   "name": "python3"
  },
  "language_info": {
   "codemirror_mode": {
    "name": "ipython",
    "version": 3
   },
   "file_extension": ".py",
   "mimetype": "text/x-python",
   "name": "python",
   "nbconvert_exporter": "python",
   "pygments_lexer": "ipython3",
   "version": "3.7.4"
  }
 },
 "nbformat": 4,
 "nbformat_minor": 4
}
